{
 "cells": [
  {
   "cell_type": "code",
   "execution_count": 26,
   "metadata": {},
   "outputs": [],
   "source": [
    "import pandas as pd\n",
    "import numpy as np\n",
    "from scipy.stats import t\n",
    "import matplotlib.pyplot as plt\n",
    "% matplotlib inline"
   ]
  },
  {
   "cell_type": "code",
   "execution_count": 27,
   "metadata": {},
   "outputs": [],
   "source": [
    "df = pd.read_excel('Pressure Test Results.xlsx')\n",
    "pressures = []\n",
    "for i,sm in np.array([df['Pressure'],df['Smooth or Crumpled']]).T:\n",
    "    if sm == 'Smooth':\n",
    "        pressures.append(i)\n",
    "uns_pressures = pressures.copy()\n",
    "pressures = sorted(pressures)[3:]\n"
   ]
  },
  {
   "cell_type": "code",
   "execution_count": 32,
   "metadata": {},
   "outputs": [
    {
     "name": "stdout",
     "output_type": "stream",
     "text": [
      "All pressures in psig\n",
      "min and max pressure: 5.4 ; 7.15\n",
      "Mean: 6.5\n",
      "Median: 6.6\n",
      "σ: 0.42753\n"
     ]
    },
    {
     "data": {
      "text/plain": [
       "[<matplotlib.lines.Line2D at 0x7f7d7cc8f0b8>]"
      ]
     },
     "execution_count": 32,
     "metadata": {},
     "output_type": "execute_result"
    },
    {
     "data": {
      "image/png": "[encoded data removed]",
      "text/plain": [
       "<matplotlib.figure.Figure at 0x7f7d7cc62a90>"
      ]
     },
     "metadata": {},
     "output_type": "display_data"
    }
   ],
   "source": [
    "plt.plot(pressures, 'o')\n",
    "print(\"All pressures in psig\")\n",
    "print(\"min and max pressure:\",min(pressures),';', max(pressures))\n",
    "pressures = np.array(pressures)\n",
    "mean = np.mean(pressures)\n",
    "σ = np.std(pressures,ddof=1)\n",
    "print('Mean: {:.1f}'.format(np.mean(pressures)))\n",
    "print(\"Median: {:.1f}\".format(np.median(pressures)))\n",
    "print('σ: {:.5f}'.format(σ))\n",
    "n = pressures.shape[0]\n",
    "ci = t.ppf(.95, n - 1) * σ / np.sqrt(n)\n",
    "plt.plot([0,n],[mean,mean])\n",
    "plt.plot([0,n],[mean+ci,mean+ci])\n",
    "plt.plot([0,n],[mean-ci,mean-ci])\n",
    "plt.plot([0,n],[mean-ci - σ,mean-ci - σ])\n",
    "plt.plot([0,n],[mean + ci + σ,mean + ci + σ])"
   ]
  },
  {
   "cell_type": "code",
   "execution_count": null,
   "metadata": {},
   "outputs": [],
   "source": []
  }
 ],
 "metadata": {
  "kernelspec": {
   "display_name": "Python 3",
   "language": "python",
   "name": "python3"
  },
  "language_info": {
   "codemirror_mode": {
    "name": "ipython",
    "version": 3
   },
   "file_extension": ".py",
   "mimetype": "text/x-python",
   "name": "python",
   "nbconvert_exporter": "python",
   "pygments_lexer": "ipython3",
   "version": "3.6.5"
  }
 },
 "nbformat": 4,
 "nbformat_minor": 2
}
